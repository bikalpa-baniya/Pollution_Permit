{
 "cells": [
  {
   "cell_type": "markdown",
   "metadata": {},
   "source": [
    "# Load Packages "
   ]
  },
  {
   "cell_type": "code",
   "execution_count": 1,
   "metadata": {},
   "outputs": [],
   "source": [
    "#Install this package if needed \n",
    "#pip install matplotlib-venn"
   ]
  },
  {
   "cell_type": "code",
   "execution_count": 2,
   "metadata": {},
   "outputs": [],
   "source": [
    "import pandas as pd\n",
    "\n",
    "from random import sample\n",
    "import re\n",
    "import numpy as np\n",
    "from math import nan, isnan\n",
    "\n",
    "from matplotlib_venn import venn3, venn3_circles\n",
    "from matplotlib import pyplot as plt\n",
    "\n",
    "from pathlib import Path  "
   ]
  },
  {
   "cell_type": "markdown",
   "metadata": {},
   "source": [
    "# Creating First Dataset"
   ]
  },
  {
   "cell_type": "code",
   "execution_count": 3,
   "metadata": {},
   "outputs": [],
   "source": [
    "\n",
    "transactions_updated = pd.read_csv(\"Obtained datasets/csv format/transactions_updated.csv\")\n",
    "\n",
    "#Creating a dictonray such that key is ERC numbers and value is the name of the firm\n",
    "#This will be useful to get seller information\n",
    "erc_name_dict = dict()\n",
    "for pair in transactions_updated[[\"ercnbr\", \"name\" ]].values.tolist(): erc_name_dict.update({pair[0]: pair[1]})\n",
    "\n",
    "\n",
    "#Now create a new column using the dictionary using created above\n",
    "prev_company_name = [] \n",
    "a = 0\n",
    "for prev in transactions_updated[\"previous_erc_0\"].values.tolist():\n",
    "    if prev in erc_name_dict.keys():\n",
    "        prev_company_name.append(erc_name_dict[prev])\n",
    "    else: \n",
    "        a = a +1 \n",
    "        prev_company_name.append(None)\n",
    "\n",
    "#Add these values to the new column seller\n",
    "transactions_updated[\"Seller\"] = prev_company_name\n",
    "\n",
    "\n",
    "#Rename the columns to be export ready\n",
    "df_1 = transactions_updated[['facid', 'name', 'ercnbr',  'erc_amt', 'price_adjusted', 'previous_erc_0' , \"Seller\",'month_issued', 'year_issued']]\n",
    "df_1 = df_1.rename(columns={\"name\": \"Buyer\", \"facid\": \"Buyer_ID\", \"erc_amt\": \"Amount\", 'price_adjusted': \"Price\", \"ercnbr\": \"Current_ERC_number\", \"previous_erc_0\": \"Past_ERC_number\"})\n"
   ]
  },
  {
   "cell_type": "code",
   "execution_count": 4,
   "metadata": {},
   "outputs": [],
   "source": [
    "#Export the first datset to the folder\n",
    "\n",
    "filepath = Path('Transaction_w_Buyer,Seller,Amount,Price,Date.csv')  \n",
    "filepath.parent.mkdir(parents=True, exist_ok=True)  \n",
    "df_1.to_csv(filepath)  "
   ]
  },
  {
   "cell_type": "markdown",
   "metadata": {},
   "source": [
    "# Creating Second dataset"
   ]
  },
  {
   "cell_type": "markdown",
   "metadata": {},
   "source": [
    "Creating the second dataset is more involved because a number of ERCs that appear in the ERC website do not appear in the transction file and vice versa. This is explained in the visualization in step 4) \n",
    "\n",
    "Furthermore, Object Oriented Programming is used starting step (3) to make the manipulation and coding smoother"
   ]
  },
  {
   "cell_type": "markdown",
   "metadata": {},
   "source": [
    "## 1) Loading the dataframe"
   ]
  },
  {
   "cell_type": "code",
   "execution_count": null,
   "metadata": {},
   "outputs": [],
   "source": [
    "\n",
    "mergedERC = pd.read_csv(\"Obtained datasets/csv format/mergedERC.csv\")\n",
    "\n",
    "#Some minor cleaning\n",
    "mergedERC = mergedERC[mergedERC[\"facid\"] != \" CDHR 057-20E0398D-0220\"]"
   ]
  },
  {
   "cell_type": "markdown",
   "metadata": {},
   "source": [
    "## 2) Recording observed years for each ERC number persent in the ERC website"
   ]
  },
  {
   "cell_type": "code",
   "execution_count": 7,
   "metadata": {},
   "outputs": [],
   "source": [
    "#Here a new column is added that records all the period the ERC number appears in the dataframe\n",
    "\n",
    "#Put all period (year + month) a ERC number appears in a new array\n",
    "mergedERC_group_period = mergedERC.groupby(\"ercnbr\", group_keys=False).apply(lambda x :  \"__\".join(x[\"period\"].values.tolist()) )\n",
    "mergedERC_group_period.reset_index()\n",
    "\n",
    "#Convert this array to a new dataframe\n",
    "mergedERC_group_period = pd.DataFrame(mergedERC_group_period, columns = [[\"period_obs\"]])\n",
    "\n",
    "#Now put the new column in the original dataframe\n",
    "mergedERC_group_period_fixed = mergedERC_group_period.merge(mergedERC, how='right', on='ercnbr') \n",
    "\n"
   ]
  },
  {
   "cell_type": "code",
   "execution_count": null,
   "metadata": {},
   "outputs": [],
   "source": [
    "#Rename the updated dataframe\n",
    "new_col = mergedERC_group_period_fixed.columns.tolist()\n",
    "new_col[1] = \"period_obs\"\n",
    "mergedERC_group_period_fixed.columns = new_col"
   ]
  },
  {
   "cell_type": "code",
   "execution_count": null,
   "metadata": {},
   "outputs": [],
   "source": [
    "#Some additional cleaning\n",
    "sub_list_mergedERC = ['ercnbr', 'period_obs', 'facid', 'companyname', 'amount' , 'month_issued', 'year_issued' , 'pollutant']\n",
    "mergedERC_group_period_fixed = mergedERC_group_period_fixed[sub_list_mergedERC]\n",
    "mergedERC_group_period_fixed = mergedERC_group_period_fixed.drop_duplicates() "
   ]
  },
  {
   "cell_type": "markdown",
   "metadata": {},
   "source": [
    "## 3) Initializing ERC Class"
   ]
  },
  {
   "cell_type": "markdown",
   "metadata": {},
   "source": [
    "Here object oriented programming is used because manipulating the data is much easier and cleaner"
   ]
  },
  {
   "cell_type": "code",
   "execution_count": 8,
   "metadata": {},
   "outputs": [],
   "source": [
    "#Returns a list of dummies where each index represets a month. \n",
    "#Values are 1 only if an ERC is observed for that year\n",
    "\n",
    "def get_ERC_observed_year(l): \n",
    "    month_Year_existance = [0 for x in range(0,34* 12)]   #ERC from 1989 to 2022 (34 years) and 12 months each \n",
    "    if l == None or l.strip() == \"\":\n",
    "        output = month_Year_existance\n",
    "    else: \n",
    "        split_years = l.split(\"__\")\n",
    "        split_month_year = [[int(x.split(\"-\")[0]), int(x.split(\"-\")[1])] for x in split_years]   \n",
    "        for month_year in split_month_year: \n",
    "            month = month_year[0]\n",
    "            year = month_year[1]\n",
    "            year_existance_index = 12* (year-1989) + month -1                      #Index of month and year in the year_existance list above \n",
    "            month_Year_existance[year_existance_index]  = 1 \n",
    "        output = month_Year_existance\n",
    "    return output \n",
    "\n",
    "\n",
    "#Defining the ERC class with the following attributes and functions\n",
    "class ERC:\n",
    "    def __init__(self, row, ERC_or_transaction):\n",
    "       \n",
    "        if ERC_or_transaction == 1: #Transaction file\n",
    "\n",
    "            self.company_id = row[0]\n",
    "            self.company_name = row[1]\n",
    "            self.ERC_number = row[11]\n",
    "            self.amount = row[14]\n",
    "            self.pollutant = row[13]\n",
    "            self.year_issued = int(row[21])\n",
    "            self.month_issued = int(row[20])\n",
    "            self.observed_years = None\n",
    "            self.erc_created_from = row[27]\n",
    "            self.pre_erc_track = row[28:44] \n",
    "\n",
    "        elif ERC_or_transaction == 0: #ERC website \n",
    "            self.company_id = row[2]\n",
    "            self.company_name = row[3]\n",
    "            self.ERC_number = row[0]\n",
    "            self.amount = row[4]\n",
    "            self.pollutant = row[7]\n",
    "            self.year_issued = int(row[6])\n",
    "            self.month_issued = int(row[5])\n",
    "            self.observed_years = get_ERC_observed_year(row[1]) \n",
    "            self.erc_created_from = None\n",
    "            self.pre_erc_track = None\n",
    "    \n",
    "    def get_previousERC(self):\n",
    "        return self.erc_created_from \n",
    "\n",
    "    def get_issued_date(self):\n",
    "        return [self.month_issued , self.year_issued]\n",
    "    \n",
    "    def get_currentERC(self):\n",
    "        return self.ERC_number\n",
    "\n",
    "    def get_observed_year_amount(self):\n",
    "        year_amount = [x * self.amount for x in self.observed_years ]\n",
    "        return year_amount \n",
    "    \n",
    "    def get_dataframe_row(self):\n",
    "        df_row = [self.company_id, self.company_name, self.pollutant, self.ERC_number]\n",
    "        df_row.extend(self.get_observed_year_amount())\n",
    "        return df_row\n",
    "    "
   ]
  },
  {
   "cell_type": "markdown",
   "metadata": {},
   "source": [
    "## 4) Defining the cases required to build this dataframe "
   ]
  },
  {
   "cell_type": "markdown",
   "metadata": {},
   "source": [
    "In summary the cases are \n",
    "- Case 1: ERC numbers in ERC website \n",
    "- Case 2: ERC number only in Transaction File (New ERCs)\n",
    "- Case 3: ERC number in Transaction File (New ERCs) and comments but not in the ERC website"
   ]
  },
  {
   "cell_type": "code",
   "execution_count": 10,
   "metadata": {},
   "outputs": [
    {
     "data": {
      "image/png": "[encoded data removed]",
      "text/plain": [
       "<Figure size 432x288 with 1 Axes>"
      ]
     },
     "metadata": {},
     "output_type": "display_data"
    }
   ],
   "source": [
    "from math import nan\n",
    "\n",
    "previous_erc_columns = [\"previous_erc_\" + str(x) for x in range(0,17)]\n",
    "df_id_values = transactions_updated[previous_erc_columns].values.tolist()\n",
    "df_id_values_cleaned = []\n",
    "for row in df_id_values:\n",
    "    new_row = [x for x in row if type(x) == str or isnan(x) == False]\n",
    "    df_id_values_cleaned.extend(new_row)\n",
    "\n",
    "#Let in_A = in ERC\n",
    "in_A= set(mergedERC_group_period_fixed[\"ercnbr\"].values.tolist())\n",
    "#Let in_B = in Transaction Current\n",
    "in_B = set(transactions_updated[\"ercnbr\"])\n",
    "#Let in_C = in Transaction previous\n",
    "in_C = set(df_id_values_cleaned)\n",
    "\n",
    "in_all_three = in_A.intersection(in_B, in_C)\n",
    "inA_and_inB_not_inC = in_A.intersection(in_B) - in_C\n",
    "inA_and_inC_not_inB = in_A.intersection(in_C) - in_B\n",
    "inB_and_inC_not_inA = in_B.intersection(in_C) - in_A\n",
    "only_inA = in_A - (in_B.union(in_C)  )\n",
    "only_inB = in_B - (in_A.union(in_C)  )\n",
    "only_inC = in_C - (in_B.union(in_A)  )\n",
    "\n",
    "\n",
    "\n",
    "# depict venn diagram\n",
    "venn3(subsets=(len(only_inA), len(only_inB), len(inA_and_inB_not_inC), len(only_inC), len(inA_and_inC_not_inB), len(inB_and_inC_not_inA), len(in_all_three)), \n",
    "      set_labels=('ERC Website', 'Transaction File (New ERCs)', 'Transaction File (ERC in Comments)'), \n",
    "      set_colors=(\"orange\", \"blue\", \"red\"), alpha=0.5)\n",
    "  \n",
    "# outline of circle line style and width\n",
    "venn3_circles(subsets=(len(only_inA), len(only_inB), len(inA_and_inB_not_inC), len(only_inC), len(inA_and_inC_not_inB), len(inB_and_inC_not_inA), len(in_all_three)),\n",
    "              linestyle=\"dashed\", linewidth=2)\n",
    "  \n",
    "# title of the venn diagram\n",
    "plt.title(\"ERC ID Numbers by Source\")\n",
    "plt.show()"
   ]
  },
  {
   "cell_type": "markdown",
   "metadata": {},
   "source": [
    "##  5) Creating the sub datasets based on the cases\n"
   ]
  },
  {
   "cell_type": "markdown",
   "metadata": {},
   "source": [
    "### Case 1 : ERC numbers in ERC website "
   ]
  },
  {
   "cell_type": "code",
   "execution_count": 23,
   "metadata": {},
   "outputs": [],
   "source": [
    "\n",
    "Case1_object_list = []\n",
    "for objects_i in mergedERC_group_period_fixed.values.tolist():\n",
    "    obj_i = ERC(objects_i, 0)\n",
    "    Case1_object_list.append(obj_i)\n"
   ]
  },
  {
   "cell_type": "markdown",
   "metadata": {},
   "source": [
    "### Case 2:  ERC number only in Transaction File (New ERCs)"
   ]
  },
  {
   "cell_type": "code",
   "execution_count": 12,
   "metadata": {},
   "outputs": [
    {
     "name": "stdout",
     "output_type": "stream",
     "text": [
      "3621\n",
      "1771\n",
      "1850\n"
     ]
    }
   ],
   "source": [
    "\n",
    "Case2_object_list = []\n",
    "\n",
    "for object_i in df_id.values.tolist():\n",
    "    if object_i[11] in only_inB:\n",
    "        obj_i = ERC(object_i, 1)\n",
    "        Case2_object_list.append(obj_i)\n",
    "\n",
    "year_is = []\n",
    "for object_i in Case2_object_list: \n",
    "    year_created = object_i.year_issued\n",
    "    month_created = object_i.month_issued\n",
    "    created_index = 12* (year_created-1989) + month_created - 1 #Index of month and year in the year_existance list below\n",
    "    new_obs_year = [0 if x < created_index else 1 for x in range(0,34* 12)]   #ERC from 1989 to 2022 (34 years) and 12 months each ] \n",
    "\n",
    "    year_is.append(year_created)\n",
    "    object_i.observed_years = new_obs_year\n",
    "    \n",
    "\n",
    "# Finding the number of ERC number in this case before 2007 \n",
    "# year_is_after2007 = [x for x in year_is if x > 2007 ]\n",
    "# year_is_before2008 = [x for x in year_is if x < 2008 ]\n",
    "\n",
    "# print(len(year_is))\n",
    "# print(len(year_is_after2007))\n",
    "# print(len(year_is_before2008))"
   ]
  },
  {
   "cell_type": "markdown",
   "metadata": {},
   "source": [
    "### Case 3: ERC number in Transaction File (New ERCs) and comments but not in the ERC website"
   ]
  },
  {
   "cell_type": "code",
   "execution_count": 13,
   "metadata": {},
   "outputs": [],
   "source": [
    " \n",
    "\n",
    "Case3_object_list = []\n",
    "a= 0 \n",
    "for object_i in transactions_updated.values.tolist():\n",
    "    \n",
    "    if object_i[11] in inB_and_inC_not_inA:\n",
    "        a =a +1 \n",
    "        obj_i = ERC(object_i, 1)\n",
    "        Case3_object_list.append(obj_i)\n",
    "\n",
    "\n",
    "\n",
    "#if this ERC number is in other object get the issue date for that object \n",
    "#Set that issue date as the end date for this object\n"
   ]
  },
  {
   "cell_type": "code",
   "execution_count": 14,
   "metadata": {},
   "outputs": [],
   "source": [
    "Case1n2_object_list = Case2_object_list + Case1_object_list + Case3_object_list\n",
    "Case1n2_object_list_prevERC = [x.get_previousERC() for x in Case1n2_object_list]\n",
    "\n",
    "def find_indices(list_to_check, item_to_find):\n",
    "    return [idx for idx, value in enumerate(list_to_check) if value == item_to_find]\n",
    "\n",
    "#for i in case3_object_list \n",
    "#   Get the index(s) of i in case1n2\n",
    "#   Use these index to get year and month\n",
    "#   Use this info with issue date to update the obs_years \n",
    "\n",
    "for case3_obj_i in Case3_object_list:\n",
    "    current_ERC = case3_obj_i.get_currentERC()\n",
    "    indices = find_indices(Case1n2_object_list_prevERC, current_ERC)\n",
    "    ended_index =0\n",
    "    for i in indices:\n",
    "        month_year = Case1n2_object_list[i].get_issued_date()\n",
    "        month = month_year[0]\n",
    "        year = month_year[1]\n",
    "        created_index_i = 12* (year-1989) + month - 1\n",
    "        if created_index_i>ended_index: ended_index = created_index_i\n",
    "    \n",
    "    issued_month_year = case3_obj_i.get_issued_date()\n",
    "    created_index = 12* (issued_month_year[1]-1989) + issued_month_year[0] - 1\n",
    "    if ended_index> created_index: \n",
    "        new_obs_year = [0 if x < created_index else 0 if x >= ended_index else 1 for x in range(0,34* 12)]\n",
    "        #['yes' if v == 1 else 'no' if v == 2 else 'idle' for v in l]\n",
    "    else: \n",
    "        new_obs_year = [0 if x < created_index else 1 for x in range(0,34* 12)]\n",
    "    case3_obj_i.observed_years = new_obs_year\n",
    "   \n"
   ]
  },
  {
   "cell_type": "markdown",
   "metadata": {},
   "source": [
    "## 6) Merging the sub datasets to create the final dataset"
   ]
  },
  {
   "cell_type": "code",
   "execution_count": 15,
   "metadata": {},
   "outputs": [],
   "source": [
    "\n",
    "total_object_list = Case2_object_list + Case1_object_list + Case3_object_list\n",
    "\n",
    "import calendar\n",
    "month_name = list(calendar.month_name)[1:]\n",
    "month_year_list = [planet +\"_\"+str(sublist) for sublist in range(1989,2023) for planet in month_name ]\n",
    "\n",
    "df_data = []\n",
    "for object_i in total_object_list:\n",
    "    df_data.append(object_i.get_dataframe_row()[:-9])\n",
    "\n",
    "col_name = [\"Company ID\", \"Company Name\", \"Pollutant\", \"ERC_number\"]\n",
    "col_name.extend(month_year_list[:-9])\n",
    "\n",
    "\n",
    "df_2 = pd.DataFrame(df_data, columns=col_name)\n",
    "df_2 = df_2.groupby([\"Company ID\", \"Pollutant\"]).sum()\n",
    "df_2 = df_2[df_2.columns.tolist()[10:]]\n"
   ]
  },
  {
   "cell_type": "code",
   "execution_count": 18,
   "metadata": {},
   "outputs": [],
   "source": [
    "\n",
    "\n",
    "filepath = Path('Amount_perPollutant_perYear.csv')  \n",
    "\n",
    "filepath.parent.mkdir(parents=True, exist_ok=True)  \n",
    "\n",
    "df_2.to_csv(filepath)"
   ]
  }
 ],
 "metadata": {
  "kernelspec": {
   "display_name": "Python 3.10.5 64-bit",
   "language": "python",
   "name": "python3"
  },
  "language_info": {
   "codemirror_mode": {
    "name": "ipython",
    "version": 3
   },
   "file_extension": ".py",
   "mimetype": "text/x-python",
   "name": "python",
   "nbconvert_exporter": "python",
   "pygments_lexer": "ipython3",
   "version": "3.10.5"
  },
  "orig_nbformat": 4,
  "vscode": {
   "interpreter": {
    "hash": "aee8b7b246df8f9039afb4144a1f6fd8d2ca17a180786b69acc140d282b71a49"
   }
  }
 },
 "nbformat": 4,
 "nbformat_minor": 2
}
